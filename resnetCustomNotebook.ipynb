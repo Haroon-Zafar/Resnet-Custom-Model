{
 "cells": [
  {
   "cell_type": "code",
   "execution_count": 3,
   "metadata": {},
   "outputs": [],
   "source": [
    "import os\n",
    "import sys\n",
    "import numpy as np \n",
    "import tensorflow as tf\n",
    "import keras\n",
    "import itertools\n"
   ]
  },
  {
   "cell_type": "code",
   "execution_count": 6,
   "metadata": {},
   "outputs": [],
   "source": [
    "# from keras.preprocessing.image import img_to_array, load_img\n",
    "from keras.utils import img_to_array, array_to_img, load_img\n",
    "from keras.applications.inception_resnet_v2 import  InceptionResNetV2, decode_predictions, preprocess_input\n",
    "from keras.datasets import fashion_mnist\n",
    "\n",
    "from keras.models import Sequential\n",
    "from keras.layers import Dense, Activation, Dropout\n",
    "from keras.callbacks import TensorBoard\n",
    "\n",
    "from time import strftime # gives hours and minutes of current time.\n",
    "\n",
    "from sklearn.metrics import confusion_matrix\n",
    "\n",
    "import matplotlib.pyplot as plt"
   ]
  },
  {
   "cell_type": "code",
   "execution_count": 7,
   "metadata": {},
   "outputs": [],
   "source": [
    "#The images are placed in a folder named Images.\n",
    "FILE_1='Images/1163.jpg'\n",
    "FILE_2='Images/1164.jpg'\n",
    "FILE_3='Images/1165.jpg'\n",
    "FILE_4='Images/1525.jpg'\n",
    "FILE_5='Images/1526.jpg'\n",
    "FILE_6='Images/1528.jpg'\n",
    "FILE_7='Images/1529.jpg'\n",
    "FILE_8='Images/1530.jpg'\n",
    "FILE_9='Images/1531.jpg'\n",
    "FILE_10='Images/1532.jpg'\n"
   ]
  },
  {
   "cell_type": "code",
   "execution_count": 8,
   "metadata": {},
   "outputs": [
    {
     "data": {
      "image/png": "[encoded data removed]",
      "text/plain": [
       "<PIL.JpegImagePlugin.JpegImageFile image mode=RGB size=60x80>"
      ]
     },
     "metadata": {},
     "output_type": "display_data"
    }
   ],
   "source": [
    "#Let's display one of the images here.\n",
    "pic = load_img(FILE_1) #A method from Keras\n",
    "display(pic)  #Display is a function in module IPython.core.display; displays a Python object in all frontends."
   ]
  },
  {
   "cell_type": "code",
   "execution_count": 9,
   "metadata": {},
   "outputs": [
    {
     "data": {
      "text/plain": [
       "(80, 60, 3)"
      ]
     },
     "execution_count": 9,
     "metadata": {},
     "output_type": "execute_result"
    }
   ],
   "source": [
    "#Converting jpeg image to array\n",
    "pic_arr = img_to_array(pic)  #a keras method\n",
    "pic_arr\n",
    "pic_arr.shape #Note that it is a 3D tensor"
   ]
  },
  {
   "cell_type": "code",
   "execution_count": 11,
   "metadata": {},
   "outputs": [
    {
     "name": "stderr",
     "output_type": "stream",
     "text": [
      "UsageError: Line magic function `%%time` not found.\n"
     ]
    }
   ],
   "source": [
    "# Loading the model\n",
    "%%time\n",
    "inception_model = InceptionResNetV2(weights='imagenet')"
   ]
  },
  {
   "cell_type": "code",
   "execution_count": 12,
   "metadata": {},
   "outputs": [
    {
     "name": "stdout",
     "output_type": "stream",
     "text": [
      "Shape before expansion: (299, 299, 3)\n",
      "Shape after expansion: (1, 299, 299, 3)\n"
     ]
    }
   ],
   "source": [
    "#Loading image in the desired resolution, as per the model requirements.\n",
    "img_m2 = load_img(FILE_1, target_size=(299,299))\n",
    "\n",
    "#Converting the loaded image into array\n",
    "img_arr_m2 = img_to_array(img_m2)\n",
    "\n",
    "#Adding a dimension as per the model requirements, the model requires a 4D tensor.\n",
    "img_expanded_m2 = np.expand_dims(img_arr_m2, axis=0)\n",
    "print('Shape before expansion:',img_arr_m2.shape)\n",
    "print('Shape after expansion:',img_expanded_m2.shape)\n",
    "\n",
    "#Preprocessing the image as per the model requirements.\n",
    "preprocessed_img_m2 = preprocess_input(img_expanded_m2)"
   ]
  },
  {
   "cell_type": "code",
   "execution_count": 13,
   "metadata": {},
   "outputs": [
    {
     "data": {
      "image/png": "[encoded data removed]",
      "text/plain": [
       "<PIL.Image.Image image mode=RGB size=299x299>"
      ]
     },
     "metadata": {},
     "output_type": "display_data"
    },
    {
     "name": "stdout",
     "output_type": "stream",
     "text": [
      "1/1 [==============================] - 5s 5s/step\n",
      "Downloading data from https://storage.googleapis.com/download.tensorflow.org/data/imagenet_class_index.json\n",
      "35363/35363 [==============================] - 0s 1us/step\n"
     ]
    },
    {
     "data": {
      "text/plain": [
       "[[('n03595614', 'jersey', 0.9077194),\n",
       "  ('n04370456', 'sweatshirt', 0.003152334),\n",
       "  ('n03710637', 'maillot', 0.0021984046),\n",
       "  ('n02916936', 'bulletproof_vest', 0.0016118736),\n",
       "  ('n03146219', 'cuirass', 0.0008314775)]]"
      ]
     },
     "execution_count": 13,
     "metadata": {},
     "output_type": "execute_result"
    }
   ],
   "source": [
    "display(img_m2)\n",
    "prediction_m2 = inception_model.predict(preprocessed_img_m2)\n",
    "decode_predictions(prediction_m2)"
   ]
  },
  {
   "cell_type": "code",
   "execution_count": 14,
   "metadata": {},
   "outputs": [],
   "source": [
    "(x_train_org, y_train_org), (x_test_org, y_test_org) = fashion_mnist.load_data() #org for original\n",
    "# pip install -U jupyter_console"
   ]
  },
  {
   "cell_type": "code",
   "execution_count": 15,
   "metadata": {},
   "outputs": [
    {
     "data": {
      "text/plain": [
       "numpy.ndarray"
      ]
     },
     "execution_count": 15,
     "metadata": {},
     "output_type": "execute_result"
    }
   ],
   "source": [
    "type(x_train_org)"
   ]
  },
  {
   "cell_type": "code",
   "execution_count": null,
   "metadata": {},
   "outputs": [],
   "source": []
  }
 ],
 "metadata": {
  "kernelspec": {
   "display_name": "Python 3.9.4 64-bit",
   "language": "python",
   "name": "python3"
  },
  "language_info": {
   "codemirror_mode": {
    "name": "ipython",
    "version": 3
   },
   "file_extension": ".py",
   "mimetype": "text/x-python",
   "name": "python",
   "nbconvert_exporter": "python",
   "pygments_lexer": "ipython3",
   "version": "3.9.4"
  },
  "orig_nbformat": 4,
  "vscode": {
   "interpreter": {
    "hash": "69713e280fccb9aa802931bf1b98f79efcfe938b3ab1e86cc85b2e647522a81d"
   }
  }
 },
 "nbformat": 4,
 "nbformat_minor": 2
}
